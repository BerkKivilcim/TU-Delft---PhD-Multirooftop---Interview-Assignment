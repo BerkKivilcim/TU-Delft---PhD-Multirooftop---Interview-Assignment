{
 "cells": [
  {
   "cell_type": "markdown",
   "id": "0bfbd212",
   "metadata": {},
   "source": [
    "# Import the libraries"
   ]
  },
  {
   "cell_type": "code",
   "execution_count": 1,
   "id": "ce579b12",
   "metadata": {},
   "outputs": [
    {
     "name": "stdout",
     "output_type": "stream",
     "text": [
      "Jupyter environment detected. Enabling Open3D WebVisualizer.\n",
      "[Open3D INFO] WebRTC GUI backend enabled.\n",
      "[Open3D INFO] WebRTCWindowSystem: HTTP handshake server disabled.\n"
     ]
    }
   ],
   "source": [
    "#importing libraries\n",
    "import open3d as o3d #pip install open3d\n",
    "import os\n",
    "\n",
    "import numpy as np #pip install numpy\n",
    "import matplotlib.pyplot as plt #pip install matplotlib\n",
    "\n",
    "from scipy.spatial import cKDTree #pip install scipy"
   ]
  },
  {
   "cell_type": "markdown",
   "id": "23dd0043",
   "metadata": {},
   "source": [
    "# Define the folder path where the obj files are stored, Also optionally another folder path can be defined to save the final results into it"
   ]
  },
  {
   "cell_type": "code",
   "execution_count": 2,
   "id": "389044a9",
   "metadata": {},
   "outputs": [],
   "source": [
    "folder_path = 'C:/Users/bb26k/Desktop/obj_data' #Folder path for where obj files are stored\n",
    "\n",
    "output_save_folder = 'C:/Users/bb26k/Desktop/save_data' #folder path for saving the data\n",
    "os.makedirs(output_save_folder, exist_ok=True) #if the folder is not exist for saving, this line of code creates the folder"
   ]
  },
  {
   "cell_type": "markdown",
   "id": "f3eb4dd4",
   "metadata": {},
   "source": [
    "# Read the obj files and import the vertex and triangle topologies into a list"
   ]
  },
  {
   "cell_type": "code",
   "execution_count": 3,
   "id": "9d193f38",
   "metadata": {},
   "outputs": [],
   "source": [
    "#find all .obj files in the folder\n",
    "obj_files = [f for f in os.listdir(folder_path) if f.endswith(\".obj\")]"
   ]
  },
  {
   "cell_type": "code",
   "execution_count": 4,
   "id": "664b8aed",
   "metadata": {},
   "outputs": [
    {
     "name": "stdout",
     "output_type": "stream",
     "text": [
      "all mesh data for each object: [TriangleMesh with 267 points and 526 triangles., TriangleMesh with 2168 points and 4326 triangles., TriangleMesh with 210 points and 416 triangles., TriangleMesh with 22 points and 40 triangles.]\n"
     ]
    }
   ],
   "source": [
    "def import_obj_files(obj_files): #function that import the obj files\n",
    "    meshes = []\n",
    "    for obj_file in obj_files:\n",
    "        file_path = os.path.join(folder_path, obj_file)\n",
    "        mesh = o3d.io.read_triangle_mesh(file_path) #reading as triangle mesh since it is indicated that triangle meshes used in orginal data\n",
    "        meshes.append(mesh) #store all meshes in a single list\n",
    "    return meshes\n",
    "        \n",
    "meshes = import_obj_files(obj_files) #output of the function is a list that contains obj file data\n",
    "print('all mesh data for each object:', meshes)"
   ]
  },
  {
   "cell_type": "markdown",
   "id": "434caefe",
   "metadata": {},
   "source": [
    "# Identify the vertices and triangle topologies of footprint regions"
   ]
  },
  {
   "cell_type": "code",
   "execution_count": 5,
   "id": "fca83c7b",
   "metadata": {},
   "outputs": [
    {
     "name": "stdout",
     "output_type": "stream",
     "text": [
      "Meshes for only the footprints of each object: [TriangleMesh with 17 points and 15 triangles., TriangleMesh with 737 points and 735 triangles., TriangleMesh with 52 points and 50 triangles., TriangleMesh with 10 points and 8 triangles.]\n"
     ]
    }
   ],
   "source": [
    "def footprint_detection(meshes):\n",
    "    filtered_meshes = []\n",
    "    filtered_triangles = []\n",
    "\n",
    "    for mesh in meshes:\n",
    "        # Hold vertices into numpy array\n",
    "        #such as [84987.497 446709.064 -0.075], ...\n",
    "        vertices = np.asarray(mesh.vertices)\n",
    "        # Hold triangle topology information in numpy array\n",
    "        # such as [1 7 8],...\n",
    "        triangles = np.asarray(mesh.triangles)\n",
    "\n",
    "        selected_triangles = []\n",
    "        selected_z_values = []\n",
    "\n",
    "        for tri in triangles:\n",
    "            #to find all the Z values of 3 vertices for a face topology such as [-0.73699999 -0.73699999 -0.73699999], [6.40100002 6.88999987 9.21000004], ...\n",
    "            tri_z_values = vertices[tri, 2] #index0: X, index1: Y, index2: Z\n",
    "            if np.all(np.isclose(tri_z_values, tri_z_values[0])):  # Check if rest of the Z values in a face list is same with the first one\n",
    "                selected_triangles.append(tri) #If condition is satisfied add their vertice topology indexes into a list \n",
    "                selected_z_values.append(tri_z_values[0])  # Add z values of a triangles to a list. However, only taking one Z value for a triangle is sufficient since all the Z values of a planar triangle is same\n",
    "\n",
    "        #convert to numpy format for some operations\n",
    "        selected_triangles = np.array(selected_triangles)\n",
    "        selected_z_values = np.array(selected_z_values) \n",
    "\n",
    "        #select all the planar triangles that has minimum Z values (each object will has an unique footprint Z value but different objects might have different Z values) \n",
    "        #IT ASSUMES ALL THE FOOTPRINT TRIANGLES ARE PLANAR TO EACH OTHER\n",
    "        min_z = np.min(selected_z_values) \n",
    "        #Filter the triangles that has lowest Z values \n",
    "        #So the final_triangles array is actually the footprint triangles of each objects\n",
    "        final_triangles = []\n",
    "        for tri, z in zip(selected_triangles, selected_z_values):\n",
    "            if np.isclose(z, min_z):\n",
    "                final_triangles.append(tri)\n",
    "\n",
    "        #covert the footprint triangle topological information to numpy format\n",
    "        final_triangles = np.array(final_triangles) \n",
    "\n",
    "        # Create new 3D meshes for footprint region\n",
    "        mesh_filtered = o3d.geometry.TriangleMesh() #create an empty triangle mesh\n",
    "        mesh_filtered.vertices = o3d.utility.Vector3dVector(vertices) #fills it with all vertices in the data\n",
    "        mesh_filtered.triangles = o3d.utility.Vector3iVector(final_triangles) #fills it with only our created final_triangle topology\n",
    "        mesh_filtered.remove_unreferenced_vertices() # remove unreferenced (unused vertices in a triangle) vertices since all vertices are included in previous line\n",
    "\n",
    "        filtered_meshes.append(mesh_filtered)\n",
    "\n",
    "    return filtered_meshes\n",
    "\n",
    "footprint_meshes = footprint_detection(meshes) #call the function, output is mesh for footprints\n",
    "print('Meshes for only the footprints of each object:', footprint_meshes)"
   ]
  },
  {
   "cell_type": "markdown",
   "id": "731daf46",
   "metadata": {},
   "source": [
    "# Identify the height values of each object"
   ]
  },
  {
   "cell_type": "code",
   "execution_count": 6,
   "id": "13b3bfc0",
   "metadata": {},
   "outputs": [
    {
     "name": "stdout",
     "output_type": "stream",
     "text": [
      "Building height value will be: 12.00100040435791\n",
      "Building height value will be: 24.031999588012695\n",
      "Building height value will be: 19.937000274658203\n",
      "Building height value will be: 9.79699993133545\n"
     ]
    }
   ],
   "source": [
    "def height_detection(meshes):\n",
    "    max_z_values_per_building = []\n",
    "\n",
    "    for mesh in meshes:\n",
    "        vertices = np.asarray(mesh.vertices)\n",
    "\n",
    "        xy_points = vertices[:, :2]  #takes X and Y values of each points (because the condition only checked in horizontal plane)\n",
    "        tree = cKDTree(xy_points) #creates tree structure for fast query\n",
    "\n",
    "        # Find the nearest neighbors for each points\n",
    "        distances, _ = tree.query(xy_points, k=2) #k=1 means only the point itself will be considered so no distance calculations will be if k selected as 1\n",
    "        #find the nearest distance values to next point for each point\n",
    "        nearest_distances = distances[:, 1]  #if k=2, then index0 is point itself, index1 is the nearest point\n",
    "\n",
    "        # create the mask: if a points nearest distance is smaller than 4 meter then those points will be excluded\n",
    "        mask_far_enough = nearest_distances >= 4\n",
    "        # filter the vertices according to that mask\n",
    "        far_enough_vertices = vertices[mask_far_enough]\n",
    "\n",
    "        # If none of the points for an object has a point with nearest neighbor that is at least 4 meters away in the XY plane, the maximum Z value among all points will be used as the building height\n",
    "        if far_enough_vertices.shape[0] == 0:\n",
    "            max_z = np.max(vertices[:, 2])\n",
    "        else:\n",
    "            #If the object have points with a nearest neigbor that is at least 4 meter away, then use the height value as the point with highest Z value among these points\n",
    "            max_z = np.max(far_enough_vertices[:, 2]) \n",
    "\n",
    "        max_z_values_per_building.append(max_z)\n",
    "\n",
    "    return max_z_values_per_building\n",
    "\n",
    "building_heights = height_detection(meshes) #call the function, output is height values per building\n",
    "\n",
    "#print the detected height values\n",
    "for value in building_heights:\n",
    "        print('Building height value will be:', value)\n"
   ]
  },
  {
   "cell_type": "markdown",
   "id": "61a8367f",
   "metadata": {},
   "source": [
    "# CONSTRUCT THE ROOFTOP VERTICES, ROOFTOP TRIANGLE TOPOLOGY AND SIDEWALL TOPOLOGY"
   ]
  },
  {
   "cell_type": "code",
   "execution_count": 12,
   "id": "4aea76a2",
   "metadata": {},
   "outputs": [
    {
     "name": "stdout",
     "output_type": "stream",
     "text": [
      "[TriangleMesh with 34 points and 120 triangles., TriangleMesh with 1474 points and 5880 triangles., TriangleMesh with 104 points and 400 triangles., TriangleMesh with 20 points and 64 triangles.]\n"
     ]
    }
   ],
   "source": [
    "def construct_rooftop_and_wall_meshes(filtered_meshes, max_z_values_per_building):\n",
    "    \n",
    "    complete_buildings = []\n",
    "\n",
    "    for mesh, height in zip(filtered_meshes, max_z_values_per_building):\n",
    "        base_vertices = np.asarray(mesh.vertices)\n",
    "        base_triangles = np.asarray(mesh.triangles)\n",
    "\n",
    "        top_vertices = base_vertices.copy() #copy the footprint vertices\n",
    "        top_vertices[:, 2] += height #offset the copies vertices according to relavant building heights\n",
    "\n",
    "        # STACKING THE FOOTPRINT AND ROOFTOP VERTICES\n",
    "        combined_vertices = np.vstack([base_vertices, top_vertices])\n",
    "        n_base = len(base_vertices) #number of footprint vertices\n",
    "        #for example lets assume number of footprint vertices will be 10. Then the vertice Index of the rooftop vertices will start from 11\n",
    "        \n",
    "        #CONSTRUCT THE ROOFTOP TRIANGLE TOPOLOGY\n",
    "        #Inverts the orientation of footprint triangles for rooftop triangles. If not so, the rooftops wont be properly visualized\n",
    "        #for example instead of using triangle topology like [17,18,19], it uses [19,18,17]\n",
    "        # with the \"+n_base\" instead of using footprint indexes like [2,1,0], it uses rooftop indexes [19,18,17]\n",
    "        top_triangles = base_triangles[:, [2, 1, 0]] + n_base\n",
    "\n",
    "        # CONSTRUCT THE SIDEWALLS TRIANGLE TOPOLOGY\n",
    "        side_triangles = []\n",
    "        for tri in base_triangles:\n",
    "            for i in range(3):\n",
    "                #Create rectangles based on footprint and rooftop vertices\n",
    "                #3 different rectangle per footprint-rooftop triangle\n",
    "                #For example if triangle vertice indices are [0,1,2] and rooftop indices starts from [17,18,19]\n",
    "                #Then created rectangles for this triangle will be [0,1,17,18], [1,2,18,19], [2, 0, 19, 17]\n",
    "                i1 = tri[i]\n",
    "                i2 = tri[(i + 1) % 3]\n",
    "                j1 = i1 + n_base\n",
    "                j2 = i2 + n_base\n",
    "                # Creates two triangle per rectangle\n",
    "                side_triangles.append([i1, j1, i2])\n",
    "                side_triangles.append([i2, j1, j2])\n",
    "\n",
    "        # Stack all triangles\n",
    "        all_triangles = np.vstack([base_triangles, top_triangles, side_triangles])\n",
    "\n",
    "        # Build the triangle mesh model\n",
    "        building_mesh = o3d.geometry.TriangleMesh()\n",
    "        building_mesh.vertices = o3d.utility.Vector3dVector(combined_vertices)\n",
    "        building_mesh.triangles = o3d.utility.Vector3iVector(all_triangles)\n",
    "        \n",
    "        #for colorful visualization\n",
    "        building_mesh.paint_uniform_color([0.8, 0.3, 0.3])  \n",
    "\n",
    "        complete_buildings.append(building_mesh)\n",
    "    \n",
    "    return complete_buildings\n",
    "\n",
    "\n",
    "complete_buildings = construct_rooftop_and_wall_meshes(footprint_meshes, building_heights) #call the function, output is completed final result\n",
    "print(complete_buildings)"
   ]
  },
  {
   "cell_type": "markdown",
   "id": "af03eda5",
   "metadata": {},
   "source": [
    "# VISUALIZATION OF FINAL RESULT"
   ]
  },
  {
   "cell_type": "code",
   "execution_count": 13,
   "id": "7fabc1f1",
   "metadata": {},
   "outputs": [],
   "source": [
    "def visualization(a_mesh_result):\n",
    "    o3d.visualization.draw_geometries(a_mesh_result, mesh_show_wireframe=True)\n",
    "    \n",
    "visualization(complete_buildings) #call the function "
   ]
  },
  {
   "cell_type": "markdown",
   "id": "331546af",
   "metadata": {},
   "source": [
    "# SAVE DATA OF FINAL RESULTS"
   ]
  },
  {
   "cell_type": "code",
   "execution_count": 14,
   "id": "03395446",
   "metadata": {},
   "outputs": [],
   "source": [
    "def save_as_separate_files_per_object(complete_buildings):\n",
    "    for i, mesh in enumerate(complete_buildings):\n",
    "        filename = f\"building_{i}.obj\"\n",
    "        file_path = os.path.join(output_save_folder, filename)\n",
    "        o3d.io.write_triangle_mesh(file_path, mesh)\n",
    "    \n",
    "save_as_separate_files_per_object(complete_buildings)"
   ]
  },
  {
   "cell_type": "code",
   "execution_count": null,
   "id": "40b859ea",
   "metadata": {},
   "outputs": [],
   "source": []
  }
 ],
 "metadata": {
  "kernelspec": {
   "display_name": "Python 3 (ipykernel)",
   "language": "python",
   "name": "python3"
  },
  "language_info": {
   "codemirror_mode": {
    "name": "ipython",
    "version": 3
   },
   "file_extension": ".py",
   "mimetype": "text/x-python",
   "name": "python",
   "nbconvert_exporter": "python",
   "pygments_lexer": "ipython3",
   "version": "3.10.9"
  }
 },
 "nbformat": 4,
 "nbformat_minor": 5
}
